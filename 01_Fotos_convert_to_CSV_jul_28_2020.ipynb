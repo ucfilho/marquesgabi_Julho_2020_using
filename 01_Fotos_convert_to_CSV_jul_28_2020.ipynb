{
  "nbformat": 4,
  "nbformat_minor": 0,
  "metadata": {
    "colab": {
      "name": "01_Fotos_convert_to_CSV_jul_28_2020.ipynb",
      "provenance": [],
      "collapsed_sections": [],
      "include_colab_link": true
    },
    "kernelspec": {
      "name": "python3",
      "display_name": "Python 3"
    }
  },
  "cells": [
    {
      "cell_type": "markdown",
      "metadata": {
        "id": "view-in-github",
        "colab_type": "text"
      },
      "source": [
        "<a href=\"https://colab.research.google.com/github/ucfilho/marquesgabi_Julho_2020_using/blob/master/01_Fotos_convert_to_CSV_jul_28_2020.ipynb\" target=\"_parent\"><img src=\"https://colab.research.google.com/assets/colab-badge.svg\" alt=\"Open In Colab\"/></a>"
      ]
    },
    {
      "cell_type": "code",
      "metadata": {
        "id": "_P10d6j36HnE",
        "colab_type": "code",
        "colab": {}
      },
      "source": [
        "import matplotlib.pyplot as plt\n",
        "import numpy as np\n",
        "import cv2\n",
        "import zipfile\n",
        "#import random\n",
        "from random import randint\n",
        "from PIL import Image\n",
        "import re\n",
        "from sklearn.model_selection import train_test_split\n",
        "#import scikit-image\n",
        "import skimage\n",
        "import pandas as pd\n",
        "from skimage import transform "
      ],
      "execution_count": null,
      "outputs": []
    },
    {
      "cell_type": "code",
      "metadata": {
        "id": "JL5s_NAW8DBP",
        "colab_type": "code",
        "colab": {
          "base_uri": "https://localhost:8080/",
          "height": 133
        },
        "outputId": "5ba3b901-231b-43a9-fcd7-95484fbf3ad0"
      },
      "source": [
        "!git clone https://github.com/ucfilho/marquesgabi_Julho_2020\n",
        "%cd marquesgabi_Julho_2020\n",
        "Transfere='Fotos9Amostras_teste_jul_2020.zip'\n",
        "file_name = zipfile.ZipFile(Transfere, 'r')\n",
        "file_name.extractall()"
      ],
      "execution_count": null,
      "outputs": [
        {
          "output_type": "stream",
          "text": [
            "Cloning into 'marquesgabi_Julho_2020'...\n",
            "remote: Enumerating objects: 33, done.\u001b[K\n",
            "remote: Counting objects: 100% (33/33), done.\u001b[K\n",
            "remote: Compressing objects: 100% (31/31), done.\u001b[K\n",
            "remote: Total 33 (delta 10), reused 0 (delta 0), pack-reused 0\u001b[K\n",
            "Unpacking objects: 100% (33/33), done.\n",
            "/content/marquesgabi_Julho_2020\n"
          ],
          "name": "stdout"
        }
      ]
    },
    {
      "cell_type": "code",
      "metadata": {
        "id": "FUbogJP18Qqo",
        "colab_type": "code",
        "colab": {}
      },
      "source": [
        "#fotos já recortadas anteriormente\n",
        "labels = [] #882 imagens recortadas por nós\n",
        "images = [] #882 imagens lidas no formato de lista \n",
        "with zipfile.ZipFile(Transfere, \"r\") as f:\n",
        "  for f in f.namelist():\n",
        "    images.append(cv2.imread(f))\n",
        "    labels.append(f)"
      ],
      "execution_count": null,
      "outputs": []
    },
    {
      "cell_type": "code",
      "metadata": {
        "id": "PHDzHM8dBfRy",
        "colab_type": "code",
        "colab": {
          "base_uri": "https://localhost:8080/",
          "height": 70
        },
        "outputId": "6ce933e7-41aa-44a5-8d62-46518b821772"
      },
      "source": [
        "#for i in labels:\n",
        "#  print(i)\n",
        "#different_type=['B','V','N','I']\n",
        "\n",
        "img_name=labels\n",
        "\n",
        "Graos='G' # numero 1\n",
        "Indef='I' # numero 2\n",
        "Buraco='B' # numero 3\n",
        "Varios='V' # numero 4\n",
        "NaoGrao='N' # numero 5\n",
        "y_new_valor=[]\n",
        "y_G=[]; y_N=[]; y_I=[]; y_B=[]; y_V=[]\n",
        "\n",
        "for x in img_name:\n",
        "  if re.search(Graos, x):\n",
        "    y_new_valor.append(Graos)\n",
        "    y_G.append(x)\n",
        "  elif re.search(Indef, x):\n",
        "    y_new_valor.append(Indef)\n",
        "    y_I.append(x)\n",
        "  elif re.search(Buraco, x):\n",
        "    y_new_valor.append(Buraco)\n",
        "    y_G.append(x)\n",
        "  elif re.search(Varios, x):\n",
        "    y_new_valor.append(Varios)\n",
        "    y_V.append(x)\n",
        "  else:\n",
        "    y_new_valor.append(NaoGrao)\n",
        "    y_N.append(x)\n",
        "\n",
        "print(y_N)\n",
        "Num=len(y_N);print(Num)"
      ],
      "execution_count": null,
      "outputs": [
        {
          "output_type": "stream",
          "text": [
            "['Q6-1-2-N4.jpg', 'Q6-1-2-N5.jpg', 'Q6-1-2-N7.jpg', 'Q6-1-2-N9.jpg', 'Q6-1-2-N13.jpg', 'Q6-1-2-N17.jpg', 'Q6-1-2-N19.jpg', 'Q6-1-4-N6.jpg', 'Q6-1-4-N10.jpg', 'Q6-1-5-N4.jpg', 'Q6-1-5-N7.jpg', 'Q6-1-5-N8.jpg', 'Q6-1-5-N9.jpg', 'Q6-1-5-N10.jpg', 'Q6-2-1-N1.jpg', 'Q6-2-1-N2.jpg', 'Q6-2-1-N6.jpg', 'Q6-2-2-N3.jpg', 'Q6-2-2-N5.jpg', 'Q6-2-2-N9.jpg', 'Q6-2-2-N10.jpg', 'Q6-2-5-N1.jpg', 'Q6-2-5-N2.jpg', 'Q6-2-5-N3.jpg', 'Q6-2-5-N4.jpg', 'Q6-2-5-N5.jpg', 'Q6-2-5-N6.jpg', 'Q6-2-5-N7.jpg', 'Q6-2-5-N9.jpg', 'Q6-2-5-N10.jpg', 'Q6-2-5-N12.jpg', 'Q6-2-5-N13.jpg', 'Q6-2-5-N14.jpg', 'Q6-2-5-N16.jpg', 'Q6-2-5-N17.jpg', 'Q6-2-5-N18.jpg', 'Q6-2-5-N19.jpg', 'Q6-3-1-N1.jpg', 'Q6-3-1-N2.jpg', 'Q6-3-2-N3.jpg', 'Q6-3-2-N10.jpg', 'Q6-3-4-N2.jpg', 'Q6-3-4-N5.jpg', 'Q6-3-4-N7.jpg', 'Q6-3-4-N9.jpg', 'Q6-3-4-N10.jpg', 'Q6-3-4-N14.jpg', 'Q6-3-4-N15.jpg', 'Q6-3-4-N16.jpg', 'Q6-3-4-N17.jpg', 'Q6-3-4-N18.jpg', 'Q6-3-4-N19.jpg', 'Q6-4-1-N1.jpg', 'Q6-4-1-N8.jpg', 'Q6-4-1-N10.jpg', 'Q6-4-3-N3.jpg', 'Q6-4-3-N5.jpg', 'Q6-4-3-N9.jpg', 'Q6-4-3-N10.jpg', 'Q6-4-4-N3.jpg', 'Q6-4-4-N9.jpg', 'Q6-4-4-N10.jpg', 'Q6-4-4-N11.jpg', 'Q6-4-4-N18.jpg', 'Q6-5-2-N2.jpg', 'Q6-5-2-N3.jpg', 'Q6-5-2-N7.jpg', 'Q6-5-2-N9.jpg', 'Q6-5-2-N10.jpg', 'Q6-5-3-N1.jpg', 'Q6-5-3-N2.jpg', 'Q6-5-3-N7.jpg', 'Q6-5-3-N8.jpg', 'Q6-5-3-N10.jpg', 'Q6-6-2-N1.jpg', 'Q6-6-3-N1.jpg', 'Q6-6-5-N3.jpg', 'Q6-6-5-N4.jpg', 'Q6-6-5-N7.jpg', 'Q6-6-5-N18.jpg', 'Q6-7-2-N1.jpg', 'Q6-7-2-N2.jpg', 'Q6-7-2-N3.jpg', 'Q6-7-2-N4.jpg', 'Q6-7-2-N5.jpg', 'Q6-7-2-N6.jpg', 'Q6-7-2-N8.jpg', 'Q6-7-2-N9.jpg', 'Q6-7-2-N10.jpg', 'Q6-7-2-N14.jpg', 'Q6-7-2-N17.jpg', 'Q6-7-2-N18.jpg', 'Q6-7-2-N20.jpg', 'Q6-7-3-N5.jpg', 'Q6-8-2-N3.jpg', 'Q6-8-3-N2.jpg', 'Q6-8-3-N8.jpg', 'Q6-8-4-N4.jpg', 'Q6-8-4-N7.jpg', 'Q6-8-4-N9.jpg', 'Q6-8-4-N10.jpg', 'Q6-8-4-N12.jpg', 'Q6-8-4-N19.jpg', 'Q6-8-4-N20.jpg', 'Q6-9-2-N1.jpg', 'Q6-9-2-N3.jpg', 'Q6-9-2-N4.jpg', 'Q6-9-2-N5.jpg', 'Q6-9-2-N6.jpg', 'Q6-9-2-N12.jpg', 'Q6-9-2-N16.jpg', 'Q6-9-2-N20.jpg', 'Q6-9-3-N10.jpg', 'Q6-9-5-N5.jpg', 'Q6-9-5-N10.jpg']\n",
            "115\n"
          ],
          "name": "stdout"
        }
      ]
    },
    {
      "cell_type": "code",
      "metadata": {
        "id": "Hj5DJ3IoB1-s",
        "colab_type": "code",
        "colab": {
          "base_uri": "https://localhost:8080/",
          "height": 53
        },
        "outputId": "45723861-b0c0-468a-ea7e-75434e4b4341"
      },
      "source": [
        "print(y_new_valor)"
      ],
      "execution_count": null,
      "outputs": [
        {
          "output_type": "stream",
          "text": [
            "['G', 'G', 'G', 'G', 'G', 'G', 'G', 'G', 'G', 'G', 'G', 'G', 'G', 'N', 'N', 'N', 'N', 'N', 'N', 'N', 'V', 'V', 'V', 'V', 'V', 'V', 'B', 'B', 'B', 'B', 'B', 'B', 'B', 'B', 'B', 'B', 'G', 'G', 'G', 'G', 'G', 'G', 'G', 'G', 'I', 'I', 'I', 'I', 'I', 'I', 'I', 'I', 'I', 'I', 'N', 'N', 'V', 'V', 'V', 'V', 'V', 'V', 'B', 'B', 'B', 'B', 'B', 'B', 'B', 'B', 'B', 'B', 'G', 'G', 'G', 'G', 'G', 'I', 'I', 'I', 'I', 'I', 'I', 'I', 'I', 'I', 'I', 'N', 'N', 'N', 'N', 'N', 'V', 'V', 'V', 'V', 'V', 'V', 'B', 'B', 'B', 'B', 'B', 'B', 'B', 'B', 'B', 'B', 'G', 'G', 'G', 'G', 'G', 'G', 'G', 'I', 'I', 'I', 'I', 'I', 'I', 'I', 'I', 'I', 'I', 'N', 'N', 'N', 'V', 'V', 'V', 'V', 'V', 'V', 'B', 'B', 'B', 'B', 'B', 'B', 'B', 'B', 'B', 'B', 'G', 'G', 'G', 'G', 'G', 'G', 'I', 'I', 'I', 'I', 'I', 'I', 'I', 'I', 'I', 'I', 'N', 'N', 'N', 'N', 'V', 'V', 'V', 'V', 'V', 'V', 'G', 'G', 'G', 'G', 'N', 'N', 'N', 'N', 'N', 'N', 'N', 'N', 'N', 'N', 'N', 'N', 'N', 'N', 'N', 'N', 'V', 'V', 'V', 'V', 'V', 'V', 'B', 'B', 'B', 'B', 'B', 'B', 'B', 'B', 'B', 'B', 'G', 'G', 'G', 'G', 'G', 'G', 'G', 'G', 'I', 'I', 'I', 'I', 'I', 'I', 'I', 'I', 'I', 'I', 'N', 'N', 'V', 'V', 'V', 'V', 'V', 'V', 'B', 'B', 'B', 'B', 'B', 'B', 'B', 'B', 'B', 'B', 'G', 'G', 'G', 'G', 'G', 'G', 'G', 'G', 'I', 'I', 'I', 'I', 'I', 'I', 'I', 'I', 'I', 'I', 'N', 'N', 'V', 'V', 'V', 'V', 'V', 'V', 'G', 'G', 'G', 'G', 'G', 'G', 'G', 'G', 'G', 'N', 'N', 'N', 'N', 'N', 'N', 'N', 'N', 'N', 'N', 'N', 'V', 'V', 'V', 'V', 'V', 'V', 'B', 'B', 'B', 'B', 'B', 'B', 'B', 'B', 'B', 'B', 'G', 'G', 'G', 'G', 'G', 'G', 'G', 'I', 'I', 'I', 'I', 'I', 'I', 'I', 'I', 'I', 'I', 'N', 'N', 'N', 'V', 'V', 'V', 'V', 'V', 'V', 'B', 'B', 'B', 'B', 'B', 'B', 'B', 'B', 'B', 'B', 'G', 'G', 'G', 'G', 'G', 'G', 'I', 'I', 'I', 'I', 'I', 'I', 'I', 'I', 'I', 'I', 'N', 'N', 'N', 'N', 'V', 'V', 'V', 'V', 'V', 'V', 'G', 'G', 'G', 'G', 'G', 'G', 'G', 'G', 'G', 'G', 'G', 'G', 'G', 'G', 'G', 'N', 'N', 'N', 'N', 'N', 'V', 'V', 'V', 'V', 'V', 'V', 'B', 'B', 'B', 'B', 'B', 'B', 'B', 'B', 'B', 'B', 'G', 'G', 'G', 'G', 'G', 'I', 'I', 'I', 'I', 'I', 'I', 'I', 'I', 'I', 'I', 'N', 'N', 'N', 'N', 'N', 'V', 'V', 'V', 'V', 'V', 'V', 'G', 'G', 'G', 'G', 'G', 'G', 'G', 'G', 'G', 'G', 'G', 'G', 'G', 'G', 'G', 'N', 'N', 'N', 'N', 'N', 'V', 'V', 'V', 'V', 'V', 'V', 'B', 'B', 'B', 'B', 'B', 'B', 'B', 'B', 'B', 'B', 'G', 'G', 'G', 'G', 'G', 'G', 'G', 'G', 'G', 'G', 'I', 'I', 'I', 'I', 'I', 'I', 'I', 'I', 'I', 'I', 'V', 'V', 'V', 'V', 'V', 'V', 'B', 'B', 'B', 'B', 'B', 'B', 'B', 'B', 'B', 'B', 'G', 'G', 'G', 'G', 'G', 'G', 'G', 'G', 'G', 'I', 'I', 'I', 'I', 'I', 'I', 'I', 'I', 'I', 'I', 'N', 'V', 'V', 'V', 'V', 'V', 'V', 'B', 'B', 'B', 'B', 'B', 'B', 'B', 'B', 'B', 'B', 'G', 'G', 'G', 'G', 'G', 'G', 'G', 'G', 'G', 'I', 'I', 'I', 'I', 'I', 'I', 'I', 'I', 'I', 'I', 'N', 'V', 'V', 'V', 'V', 'V', 'V', 'G', 'G', 'G', 'G', 'G', 'G', 'G', 'G', 'G', 'G', 'G', 'G', 'G', 'G', 'G', 'G', 'N', 'N', 'N', 'N', 'V', 'V', 'V', 'V', 'V', 'V', 'G', 'G', 'G', 'G', 'G', 'G', 'G', 'N', 'N', 'N', 'N', 'N', 'N', 'N', 'N', 'N', 'N', 'N', 'N', 'N', 'V', 'V', 'V', 'V', 'V', 'V', 'B', 'B', 'B', 'B', 'B', 'B', 'B', 'B', 'B', 'B', 'G', 'G', 'G', 'G', 'G', 'G', 'G', 'G', 'G', 'I', 'I', 'I', 'I', 'I', 'I', 'I', 'I', 'I', 'I', 'N', 'V', 'V', 'V', 'V', 'V', 'V', 'B', 'B', 'B', 'B', 'B', 'B', 'B', 'B', 'B', 'B', 'G', 'G', 'G', 'G', 'G', 'G', 'G', 'G', 'G', 'G', 'I', 'I', 'I', 'I', 'I', 'I', 'I', 'I', 'I', 'I', 'V', 'V', 'V', 'V', 'V', 'V', 'B', 'B', 'B', 'B', 'B', 'B', 'B', 'B', 'B', 'B', 'G', 'G', 'G', 'G', 'G', 'G', 'G', 'G', 'G', 'I', 'I', 'I', 'I', 'I', 'I', 'I', 'I', 'I', 'I', 'N', 'V', 'V', 'V', 'V', 'V', 'V', 'B', 'B', 'B', 'B', 'B', 'B', 'B', 'B', 'B', 'B', 'G', 'G', 'G', 'G', 'G', 'G', 'G', 'G', 'I', 'I', 'I', 'I', 'I', 'I', 'I', 'I', 'I', 'I', 'N', 'N', 'V', 'V', 'V', 'V', 'V', 'V', 'G', 'G', 'G', 'G', 'G', 'G', 'G', 'G', 'G', 'G', 'G', 'G', 'G', 'N', 'N', 'N', 'N', 'N', 'N', 'N', 'V', 'V', 'V', 'V', 'V', 'V', 'G', 'G', 'G', 'G', 'G', 'G', 'G', 'G', 'G', 'G', 'G', 'G', 'N', 'N', 'N', 'N', 'N', 'N', 'N', 'N', 'V', 'V', 'V', 'V', 'V', 'V', 'B', 'B', 'B', 'B', 'B', 'B', 'B', 'B', 'B', 'B', 'G', 'G', 'G', 'G', 'G', 'G', 'G', 'G', 'G', 'I', 'I', 'I', 'I', 'I', 'I', 'I', 'I', 'I', 'I', 'N', 'V', 'V', 'V', 'V', 'V', 'V', 'B', 'B', 'B', 'B', 'B', 'B', 'B', 'B', 'B', 'B', 'G', 'G', 'G', 'G', 'G', 'G', 'G', 'G', 'I', 'I', 'I', 'I', 'I', 'I', 'I', 'I', 'I', 'I', 'N', 'N', 'V', 'V', 'V', 'V', 'V', 'V']\n"
          ],
          "name": "stdout"
        }
      ]
    },
    {
      "cell_type": "code",
      "metadata": {
        "id": "UKiGOoEm_Yjx",
        "colab_type": "code",
        "colab": {}
      },
      "source": [
        "# Rescale the images in the 'images' array\n",
        "images28 = [transform.resize(image, (28, 28)) for image in images]"
      ],
      "execution_count": null,
      "outputs": []
    },
    {
      "cell_type": "code",
      "metadata": {
        "id": "lsPlbVrU_bRX",
        "colab_type": "code",
        "colab": {}
      },
      "source": [
        "# Import 'rgb2gray' from 'skimage.color'\n",
        "from skimage.color import rgb2gray\n",
        "\n",
        "# Convert 'images28' to an array\n",
        "images28 = np.array(images28)\n",
        "\n",
        "# Convert 'images28' to grayscale\n",
        "images28 = rgb2gray(images28)"
      ],
      "execution_count": null,
      "outputs": []
    },
    {
      "cell_type": "code",
      "metadata": {
        "id": "dsCqagrl-A6u",
        "colab_type": "code",
        "colab": {}
      },
      "source": [
        "img28_ravel_all=[]\n",
        "for img28 in images28:\n",
        "  img28_ravel=np.copy(img28.ravel())\n",
        "  img28_ravel_all.append(img28_ravel)"
      ],
      "execution_count": null,
      "outputs": []
    },
    {
      "cell_type": "code",
      "metadata": {
        "id": "9v6YMj3CAGQz",
        "colab_type": "code",
        "colab": {}
      },
      "source": [
        "df=pd.DataFrame(img28_ravel_all)"
      ],
      "execution_count": null,
      "outputs": []
    },
    {
      "cell_type": "code",
      "metadata": {
        "id": "SOT7I_9PAVns",
        "colab_type": "code",
        "colab": {
          "base_uri": "https://localhost:8080/",
          "height": 150
        },
        "outputId": "adedd64b-1f07-49a2-fc38-a1e81c37b183"
      },
      "source": [
        "print(df.head())"
      ],
      "execution_count": null,
      "outputs": [
        {
          "output_type": "stream",
          "text": [
            "        0         1         2    ...       781       782       783\n",
            "0  0.000000  0.000000  0.003151  ...  0.686423  0.686308  0.687691\n",
            "1  0.000000  0.000000  0.000000  ...  0.472774  0.492625  0.509085\n",
            "2  0.453209  0.522566  0.566419  ...  0.546445  0.549192  0.554389\n",
            "3  0.753666  0.645902  0.624971  ...  0.433555  0.485238  0.618761\n",
            "4  0.945212  0.897359  0.618521  ...  0.989419  0.981080  0.958378\n",
            "\n",
            "[5 rows x 784 columns]\n"
          ],
          "name": "stdout"
        }
      ]
    },
    {
      "cell_type": "code",
      "metadata": {
        "id": "P7ZKkGMwAaWt",
        "colab_type": "code",
        "colab": {
          "base_uri": "https://localhost:8080/",
          "height": 150
        },
        "outputId": "af1f6129-69c4-4d67-bbc2-f81d1c6a401b"
      },
      "source": [
        "print(df.tail())"
      ],
      "execution_count": null,
      "outputs": [
        {
          "output_type": "stream",
          "text": [
            "          0         1         2    ...       781       782       783\n",
            "877  0.382034  0.478529  0.510424  ...  0.001968  0.000283  0.000283\n",
            "878  0.358902  0.401804  0.409709  ...  0.490001  0.453690  0.512968\n",
            "879  0.403780  0.320002  0.336256  ...  0.280698  0.256556  0.241921\n",
            "880  0.401113  0.448029  0.429602  ...  0.440679  0.421423  0.333360\n",
            "881  0.388052  0.369880  0.332629  ...  0.363354  0.171375  0.123215\n",
            "\n",
            "[5 rows x 784 columns]\n"
          ],
          "name": "stdout"
        }
      ]
    },
    {
      "cell_type": "code",
      "metadata": {
        "id": "LmVB6acwCkUI",
        "colab_type": "code",
        "colab": {}
      },
      "source": [
        "\n",
        "df.insert(0,\"Type\",y_new_valor)"
      ],
      "execution_count": null,
      "outputs": []
    },
    {
      "cell_type": "code",
      "metadata": {
        "id": "s58fJgykDNBY",
        "colab_type": "code",
        "colab": {
          "base_uri": "https://localhost:8080/",
          "height": 566
        },
        "outputId": "0af80589-6232-49e4-b023-99e7fb9f88c2"
      },
      "source": [
        "print(df.tail(30))"
      ],
      "execution_count": null,
      "outputs": [
        {
          "output_type": "stream",
          "text": [
            "    Type         0         1         2  ...       780       781       782       783\n",
            "852    B  0.768393  0.765659  0.697426  ...  0.484251  0.456327  0.431732  0.401917\n",
            "853    B  0.494304  0.485098  0.430753  ...  0.396312  0.412679  0.420440  0.424361\n",
            "854    B  0.338615  0.345478  0.349400  ...  0.431273  0.454525  0.478319  0.477872\n",
            "855    B  0.580389  0.571322  0.557140  ...  0.428275  0.416262  0.406891  0.405032\n",
            "856    G  0.000000  0.000000  0.000000  ...  0.269010  0.314184  0.330958  0.329361\n",
            "857    G  0.461297  0.460257  0.443975  ...  0.308818  0.199259  0.204124  0.253071\n",
            "858    G  0.141740  0.162338  0.164022  ...  0.298980  0.304400  0.307671  0.307954\n",
            "859    G  0.231651  0.230215  0.243199  ...  0.319473  0.311576  0.312213  0.304108\n",
            "860    G  0.610490  0.607881  0.595996  ...  0.446881  0.522799  0.542992  0.542124\n",
            "861    G  0.225118  0.235461  0.223808  ...  0.475720  0.461355  0.427585  0.396993\n",
            "862    G  0.275897  0.337442  0.379325  ...  0.454685  0.472645  0.476284  0.474733\n",
            "863    G  0.364646  0.366905  0.367164  ...  0.313521  0.308792  0.295080  0.285679\n",
            "864    I  0.259836  0.267962  0.262000  ...  0.394859  0.418791  0.448751  0.466709\n",
            "865    I  0.164136  0.172359  0.171356  ...  0.399882  0.393879  0.397124  0.385523\n",
            "866    I  0.418206  0.440144  0.447465  ...  0.505129  0.504733  0.496763  0.493222\n",
            "867    I  0.525269  0.536334  0.551163  ...  0.476863  0.475623  0.475196  0.471275\n",
            "868    I  0.147743  0.158003  0.152932  ...  0.420213  0.430648  0.438855  0.430315\n",
            "869    I  0.373422  0.422402  0.454821  ...  0.547673  0.562901  0.557744  0.556564\n",
            "870    I  0.466590  0.467531  0.468527  ...  0.336162  0.330537  0.323195  0.328470\n",
            "871    I  0.436285  0.447755  0.462920  ...  0.604564  0.587482  0.542714  0.521155\n",
            "872    I  0.270531  0.257551  0.237356  ...  0.433510  0.407640  0.365623  0.305003\n",
            "873    I  0.499154  0.511049  0.518723  ...  0.322779  0.356018  0.387132  0.429786\n",
            "874    N  0.448249  0.454421  0.462264  ...  0.288560  0.324992  0.420107  0.546766\n",
            "875    N  0.335562  0.382952  0.411707  ...  0.268512  0.333457  0.408178  0.419522\n",
            "876    V  0.000000  0.000000  0.083549  ...  0.336833  0.324563  0.380766  0.433603\n",
            "877    V  0.382034  0.478529  0.510424  ...  0.050318  0.001968  0.000283  0.000283\n",
            "878    V  0.358902  0.401804  0.409709  ...  0.577004  0.490001  0.453690  0.512968\n",
            "879    V  0.403780  0.320002  0.336256  ...  0.381977  0.280698  0.256556  0.241921\n",
            "880    V  0.401113  0.448029  0.429602  ...  0.464274  0.440679  0.421423  0.333360\n",
            "881    V  0.388052  0.369880  0.332629  ...  0.340658  0.363354  0.171375  0.123215\n",
            "\n",
            "[30 rows x 785 columns]\n"
          ],
          "name": "stdout"
        }
      ]
    },
    {
      "cell_type": "code",
      "metadata": {
        "id": "vd2QPGTjD1tt",
        "colab_type": "code",
        "colab": {}
      },
      "source": [
        "# print(df.head(20))"
      ],
      "execution_count": null,
      "outputs": []
    },
    {
      "cell_type": "code",
      "metadata": {
        "id": "4t2gT6s5EVi1",
        "colab_type": "code",
        "colab": {
          "base_uri": "https://localhost:8080/",
          "height": 120
        },
        "outputId": "fca6ba15-bbbd-4537-9480-3b532371b5fa"
      },
      "source": [
        "# found drive\n",
        "from google.colab import drive\n",
        "drive.mount('drive')"
      ],
      "execution_count": null,
      "outputs": [
        {
          "output_type": "stream",
          "text": [
            "Go to this URL in a browser: https://accounts.google.com/o/oauth2/auth?client_id=947318989803-6bn6qk8qdgf4n4g3pfee6491hc0brc4i.apps.googleusercontent.com&redirect_uri=urn%3aietf%3awg%3aoauth%3a2.0%3aoob&response_type=code&scope=email%20https%3a%2f%2fwww.googleapis.com%2fauth%2fdocs.test%20https%3a%2f%2fwww.googleapis.com%2fauth%2fdrive%20https%3a%2f%2fwww.googleapis.com%2fauth%2fdrive.photos.readonly%20https%3a%2f%2fwww.googleapis.com%2fauth%2fpeopleapi.readonly\n",
            "\n",
            "Enter your authorization code:\n",
            "··········\n",
            "Mounted at drive\n"
          ],
          "name": "stdout"
        }
      ]
    },
    {
      "cell_type": "code",
      "metadata": {
        "id": "Ee0R4KCuEc54",
        "colab_type": "code",
        "colab": {
          "base_uri": "https://localhost:8080/",
          "height": 33
        },
        "outputId": "d4d4670c-9f4a-449f-d054-c1355b810320"
      },
      "source": [
        "\n",
        "df.to_csv('Fotos882.csv',float_format=\"%.5f\")\n",
        "# save in drive\n",
        "!cp Fotos882.csv drive/My\\ Drive/Maria_Gabriela_Textura_dados_jan_2020/"
      ],
      "execution_count": null,
      "outputs": [
        {
          "output_type": "stream",
          "text": [
            "cp: cannot create regular file 'drive/My Drive/Maria_Gabriela_Textura_dados_jan_2020/': Not a directory\n"
          ],
          "name": "stdout"
        }
      ]
    }
  ]
}