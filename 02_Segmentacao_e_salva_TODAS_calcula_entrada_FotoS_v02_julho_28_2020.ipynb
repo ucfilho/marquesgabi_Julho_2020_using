{
  "nbformat": 4,
  "nbformat_minor": 0,
  "metadata": {
    "colab": {
      "name": "02_Segmentacao_e_salva_TODAS_calcula_entrada_FotoS_v02_julho_28_2020.ipynb",
      "provenance": [],
      "collapsed_sections": [],
      "include_colab_link": true
    },
    "kernelspec": {
      "name": "python3",
      "display_name": "Python 3"
    }
  },
  "cells": [
    {
      "cell_type": "markdown",
      "metadata": {
        "id": "view-in-github",
        "colab_type": "text"
      },
      "source": [
        "<a href=\"https://colab.research.google.com/github/ucfilho/marquesgabi_Julho_2020_using/blob/master/02_Segmentacao_e_salva_TODAS_calcula_entrada_FotoS_v02_julho_28_2020.ipynb\" target=\"_parent\"><img src=\"https://colab.research.google.com/assets/colab-badge.svg\" alt=\"Open In Colab\"/></a>"
      ]
    },
    {
      "cell_type": "code",
      "metadata": {
        "id": "Sog7Z9pyhUD_",
        "colab_type": "code",
        "colab": {}
      },
      "source": [
        "import matplotlib.pyplot as plt\n",
        "import numpy as np\n",
        "import cv2\n",
        "import zipfile\n",
        "#import random\n",
        "from random import randint\n",
        "from PIL import Image\n",
        "import re\n",
        "from sklearn.model_selection import train_test_split\n",
        "#import scikit-image\n",
        "import skimage\n",
        "import pandas as pd"
      ],
      "execution_count": null,
      "outputs": []
    },
    {
      "cell_type": "code",
      "metadata": {
        "id": "uZEvJvfoibE4",
        "colab_type": "code",
        "colab": {
          "base_uri": "https://localhost:8080/",
          "height": 116
        },
        "outputId": "79aba918-ec10-49e4-cf5b-74cf43a015a2"
      },
      "source": [
        "!pip install mahotas"
      ],
      "execution_count": null,
      "outputs": [
        {
          "output_type": "stream",
          "text": [
            "Collecting mahotas\n",
            "\u001b[?25l  Downloading https://files.pythonhosted.org/packages/ed/1f/01d805bc3588da8343373c279702d0fca4dc55f631873d9f2e159f9287ac/mahotas-1.4.10-cp36-cp36m-manylinux2010_x86_64.whl (5.7MB)\n",
            "\u001b[K     |████████████████████████████████| 5.7MB 3.3MB/s \n",
            "\u001b[?25hRequirement already satisfied: numpy in /usr/local/lib/python3.6/dist-packages (from mahotas) (1.18.5)\n",
            "Installing collected packages: mahotas\n",
            "Successfully installed mahotas-1.4.10\n"
          ],
          "name": "stdout"
        }
      ]
    },
    {
      "cell_type": "code",
      "metadata": {
        "id": "nf_a6PJ1iUnT",
        "colab_type": "code",
        "colab": {}
      },
      "source": [
        "import mahotas.features.texture as mht\n",
        "import mahotas.features"
      ],
      "execution_count": null,
      "outputs": []
    },
    {
      "cell_type": "code",
      "metadata": {
        "id": "_VcTdaNVh9EE",
        "colab_type": "code",
        "colab": {
          "base_uri": "https://localhost:8080/",
          "height": 133
        },
        "outputId": "ac5119fc-db25-4d5e-a10c-24436421d1c2"
      },
      "source": [
        "!git clone https://github.com/ucfilho/marquesgabi_fev_2020 #clonar do Github\n",
        "%cd marquesgabi_fev_2020\n",
        "\n",
        "import Go2BlackWhite\n",
        "import Go2Mahotas"
      ],
      "execution_count": null,
      "outputs": [
        {
          "output_type": "stream",
          "text": [
            "Cloning into 'marquesgabi_fev_2020'...\n",
            "remote: Enumerating objects: 73, done.\u001b[K\n",
            "remote: Counting objects:   1% (1/73)\u001b[K\rremote: Counting objects:   2% (2/73)\u001b[K\rremote: Counting objects:   4% (3/73)\u001b[K\rremote: Counting objects:   5% (4/73)\u001b[K\rremote: Counting objects:   6% (5/73)\u001b[K\rremote: Counting objects:   8% (6/73)\u001b[K\rremote: Counting objects:   9% (7/73)\u001b[K\rremote: Counting objects:  10% (8/73)\u001b[K\rremote: Counting objects:  12% (9/73)\u001b[K\rremote: Counting objects:  13% (10/73)\u001b[K\rremote: Counting objects:  15% (11/73)\u001b[K\rremote: Counting objects:  16% (12/73)\u001b[K\rremote: Counting objects:  17% (13/73)\u001b[K\rremote: Counting objects:  19% (14/73)\u001b[K\rremote: Counting objects:  20% (15/73)\u001b[K\rremote: Counting objects:  21% (16/73)\u001b[K\rremote: Counting objects:  23% (17/73)\u001b[K\rremote: Counting objects:  24% (18/73)\u001b[K\rremote: Counting objects:  26% (19/73)\u001b[K\rremote: Counting objects:  27% (20/73)\u001b[K\rremote: Counting objects:  28% (21/73)\u001b[K\rremote: Counting objects:  30% (22/73)\u001b[K\rremote: Counting objects:  31% (23/73)\u001b[K\rremote: Counting objects:  32% (24/73)\u001b[K\rremote: Counting objects:  34% (25/73)\u001b[K\rremote: Counting objects:  35% (26/73)\u001b[K\rremote: Counting objects:  36% (27/73)\u001b[K\rremote: Counting objects:  38% (28/73)\u001b[K\rremote: Counting objects:  39% (29/73)\u001b[K\rremote: Counting objects:  41% (30/73)\u001b[K\rremote: Counting objects:  42% (31/73)\u001b[K\rremote: Counting objects:  43% (32/73)\u001b[K\rremote: Counting objects:  45% (33/73)\u001b[K\rremote: Counting objects:  46% (34/73)\u001b[K\rremote: Counting objects:  47% (35/73)\u001b[K\rremote: Counting objects:  49% (36/73)\u001b[K\rremote: Counting objects:  50% (37/73)\u001b[K\rremote: Counting objects:  52% (38/73)\u001b[K\rremote: Counting objects:  53% (39/73)\u001b[K\rremote: Counting objects:  54% (40/73)\u001b[K\rremote: Counting objects:  56% (41/73)\u001b[K\rremote: Counting objects:  57% (42/73)\u001b[K\rremote: Counting objects:  58% (43/73)\u001b[K\rremote: Counting objects:  60% (44/73)\u001b[K\rremote: Counting objects:  61% (45/73)\u001b[K\rremote: Counting objects:  63% (46/73)\u001b[K\rremote: Counting objects:  64% (47/73)\u001b[K\rremote: Counting objects:  65% (48/73)\u001b[K\rremote: Counting objects:  67% (49/73)\u001b[K\rremote: Counting objects:  68% (50/73)\u001b[K\rremote: Counting objects:  69% (51/73)\u001b[K\rremote: Counting objects:  71% (52/73)\u001b[K\rremote: Counting objects:  72% (53/73)\u001b[K\rremote: Counting objects:  73% (54/73)\u001b[K\rremote: Counting objects:  75% (55/73)\u001b[K\rremote: Counting objects:  76% (56/73)\u001b[K\rremote: Counting objects:  78% (57/73)\u001b[K\rremote: Counting objects:  79% (58/73)\u001b[K\rremote: Counting objects:  80% (59/73)\u001b[K\rremote: Counting objects:  82% (60/73)\u001b[K\rremote: Counting objects:  83% (61/73)\u001b[K\rremote: Counting objects:  84% (62/73)\u001b[K\rremote: Counting objects:  86% (63/73)\u001b[K\rremote: Counting objects:  87% (64/73)\u001b[K\rremote: Counting objects:  89% (65/73)\u001b[K\rremote: Counting objects:  90% (66/73)\u001b[K\rremote: Counting objects:  91% (67/73)\u001b[K\rremote: Counting objects:  93% (68/73)\u001b[K\rremote: Counting objects:  94% (69/73)\u001b[K\rremote: Counting objects:  95% (70/73)\u001b[K\rremote: Counting objects:  97% (71/73)\u001b[K\rremote: Counting objects:  98% (72/73)\u001b[K\rremote: Counting objects: 100% (73/73)\u001b[K\rremote: Counting objects: 100% (73/73), done.\u001b[K\n",
            "remote: Compressing objects: 100% (71/71), done.\u001b[K\n",
            "remote: Total 73 (delta 37), reused 0 (delta 0), pack-reused 0\u001b[K\n",
            "Unpacking objects: 100% (73/73), done.\n",
            "/content/marquesgabi_fev_2020\n"
          ],
          "name": "stdout"
        }
      ]
    },
    {
      "cell_type": "code",
      "metadata": {
        "id": "B5T26owLl9eh",
        "colab_type": "code",
        "colab": {}
      },
      "source": [
        "# TensorFlow and tf.keras\n",
        "import tensorflow as tf\n",
        "from tensorflow import keras"
      ],
      "execution_count": null,
      "outputs": []
    },
    {
      "cell_type": "code",
      "metadata": {
        "id": "1v7SRrc8mH2N",
        "colab_type": "code",
        "colab": {
          "base_uri": "https://localhost:8080/",
          "height": 150
        },
        "outputId": "f6a452c4-3143-4868-94ef-72393c8fd381"
      },
      "source": [
        "\n",
        "!git clone https://github.com/marquesgabi/Doutorado\n",
        "%cd Doutorado\n",
        "Transfere='Fotos9Amostras720_e_varios_graos.zip'\n",
        "file_name = zipfile.ZipFile(Transfere, 'r')\n",
        "file_name.extractall()\n",
        "\n"
      ],
      "execution_count": null,
      "outputs": [
        {
          "output_type": "stream",
          "text": [
            "Cloning into 'Doutorado'...\n",
            "remote: Enumerating objects: 12, done.\u001b[K\n",
            "remote: Counting objects:   8% (1/12)\u001b[K\rremote: Counting objects:  16% (2/12)\u001b[K\rremote: Counting objects:  25% (3/12)\u001b[K\rremote: Counting objects:  33% (4/12)\u001b[K\rremote: Counting objects:  41% (5/12)\u001b[K\rremote: Counting objects:  50% (6/12)\u001b[K\rremote: Counting objects:  58% (7/12)\u001b[K\rremote: Counting objects:  66% (8/12)\u001b[K\rremote: Counting objects:  75% (9/12)\u001b[K\rremote: Counting objects:  83% (10/12)\u001b[K\rremote: Counting objects:  91% (11/12)\u001b[K\rremote: Counting objects: 100% (12/12)\u001b[K\rremote: Counting objects: 100% (12/12), done.\u001b[K\n",
            "remote: Compressing objects: 100% (12/12), done.\u001b[K\n",
            "remote: Total 262 (delta 3), reused 0 (delta 0), pack-reused 250\u001b[K\n",
            "Receiving objects: 100% (262/262), 72.15 MiB | 37.39 MiB/s, done.\n",
            "Resolving deltas: 100% (126/126), done.\n",
            "/content/marquesgabi_fev_2020/Doutorado\n"
          ],
          "name": "stdout"
        }
      ]
    },
    {
      "cell_type": "code",
      "metadata": {
        "id": "LqP_rCvAmyy0",
        "colab_type": "code",
        "colab": {
          "base_uri": "https://localhost:8080/",
          "height": 144
        },
        "outputId": "c1b1065d-553c-4a29-85be-761c8ae0febe"
      },
      "source": [
        "''''\n",
        "#Construção da rede com as fotos já recortadas anteriormente\n",
        "labels = [] #882 imagens recortadas por nós\n",
        "images = [] #882 imagens lidas no formato de lista \n",
        "with zipfile.ZipFile(Transfere, \"r\") as f:\n",
        "  for f in f.namelist():\n",
        "    images.append(cv2.imread(f))\n",
        "    labels.append(f)\n",
        "''''\n"
      ],
      "execution_count": null,
      "outputs": [
        {
          "output_type": "error",
          "ename": "SyntaxError",
          "evalue": "ignored",
          "traceback": [
            "\u001b[0;36m  File \u001b[0;32m\"<ipython-input-7-8516e143124e>\"\u001b[0;36m, line \u001b[0;32m9\u001b[0m\n\u001b[0;31m    ''''\u001b[0m\n\u001b[0m        \n^\u001b[0m\n\u001b[0;31mSyntaxError\u001b[0m\u001b[0;31m:\u001b[0m EOL while scanning string literal\n"
          ]
        }
      ]
    },
    {
      "cell_type": "code",
      "metadata": {
        "id": "l7Ri0y6htVO3",
        "colab_type": "code",
        "colab": {}
      },
      "source": [
        "''''\n",
        "# Import the 'pyplot' module of 'matplotlib'\n",
        "import matplotlib.pyplot as plt\n",
        "\n",
        "# Determine the (random) indexes of the images that you want to see \n",
        "traffic_signs = [25, 30, 36, 40]\n",
        "\n",
        "# Fill out the subplots with the random images that you defined \n",
        "for i in range(len(traffic_signs)):\n",
        "    plt.subplot(1, 4, i+1)\n",
        "    plt.axis('off')\n",
        "    plt.imshow(images[traffic_signs[i]])\n",
        "    plt.subplots_adjust(wspace=0.5)\n",
        "\n",
        "plt.show()\n",
        "''''"
      ],
      "execution_count": null,
      "outputs": []
    },
    {
      "cell_type": "code",
      "metadata": {
        "id": "7Bm-Hc13xiv-",
        "colab_type": "code",
        "colab": {}
      },
      "source": [
        "''''\n",
        "# Import the 'transform' module from 'skimage'\n",
        "from skimage import transform \n",
        "\n",
        "# Rescale the images in the 'images' array\n",
        "images28 = [transform.resize(image, (28, 28)) for image in images]\n",
        "''''"
      ],
      "execution_count": null,
      "outputs": []
    },
    {
      "cell_type": "code",
      "metadata": {
        "id": "jiGKMblZyyfX",
        "colab_type": "code",
        "colab": {}
      },
      "source": [
        "''''\n",
        "# Import 'rgb2gray' from 'skimage.color'\n",
        "from skimage.color import rgb2gray\n",
        "\n",
        "# Convert 'images28' to an array\n",
        "images28 = np.array(images28)\n",
        "\n",
        "# Convert 'images28' to grayscale\n",
        "images28 = rgb2gray(images28)\n",
        "''''"
      ],
      "execution_count": null,
      "outputs": []
    },
    {
      "cell_type": "code",
      "metadata": {
        "id": "QwqoG3RpzD1U",
        "colab_type": "code",
        "colab": {}
      },
      "source": [
        "''''\n",
        "for i in range(len(traffic_signs)):\n",
        "    plt.subplot(1, 4, i+1)\n",
        "    plt.axis('off')\n",
        "    plt.imshow(images28[traffic_signs[i]], cmap=\"gray\")\n",
        "    plt.subplots_adjust(wspace=0.5)\n",
        "    \n",
        "# Show the plot\n",
        "plt.show()\n",
        "''''"
      ],
      "execution_count": null,
      "outputs": []
    },
    {
      "cell_type": "code",
      "metadata": {
        "id": "i9Z1FfpIs9BN",
        "colab_type": "code",
        "colab": {}
      },
      "source": [
        "# Segmentation: start here......"
      ],
      "execution_count": null,
      "outputs": []
    },
    {
      "cell_type": "code",
      "metadata": {
        "id": "mh5F5Z3MDZJ_",
        "colab_type": "code",
        "colab": {}
      },
      "source": [
        "# start top"
      ],
      "execution_count": null,
      "outputs": []
    },
    {
      "cell_type": "code",
      "metadata": {
        "id": "0Cx1aUikhp2N",
        "colab_type": "code",
        "colab": {}
      },
      "source": [
        "#Start to use the big image\n",
        "Size=1200 # tamanho da foto\n",
        "Sub_Size=int(Size/5) # tamanho do fracionamento\n",
        "Row_Crop=1/2 # posicao do corte\n",
        "Crop=int(Size*Row_Crop)"
      ],
      "execution_count": null,
      "outputs": []
    },
    {
      "cell_type": "code",
      "metadata": {
        "id": "8ayUf2FDhc6c",
        "colab_type": "code",
        "colab": {}
      },
      "source": [
        "Transfere='Fotos_Grandes_3cdAmostra.zip'\n",
        "file_name = zipfile.ZipFile(Transfere, 'r')\n",
        "file_name.extractall()"
      ],
      "execution_count": null,
      "outputs": []
    },
    {
      "cell_type": "code",
      "metadata": {
        "id": "0kA4IWSmasoD",
        "colab_type": "code",
        "colab": {}
      },
      "source": [
        "ww,img_name=Go2BlackWhite.BlackWhite(Transfere,Size) #Pegamos a primeira foto Grande\n",
        "img=ww[0]"
      ],
      "execution_count": null,
      "outputs": []
    },
    {
      "cell_type": "code",
      "metadata": {
        "id": "SnTtH3KDP863",
        "colab_type": "code",
        "colab": {}
      },
      "source": [
        "print(img.shape)"
      ],
      "execution_count": null,
      "outputs": []
    },
    {
      "cell_type": "code",
      "metadata": {
        "id": "J6TsOqZQZ3iY",
        "colab_type": "code",
        "colab": {}
      },
      "source": [
        "plt.imshow(img, cmap = \"gray\")"
      ],
      "execution_count": null,
      "outputs": []
    },
    {
      "cell_type": "code",
      "metadata": {
        "id": "6eTlKy-t8no1",
        "colab_type": "code",
        "colab": {}
      },
      "source": [
        "#First top"
      ],
      "execution_count": null,
      "outputs": []
    },
    {
      "cell_type": "code",
      "metadata": {
        "id": "HLzM4Qypkkrb",
        "colab_type": "code",
        "colab": {}
      },
      "source": [
        "a=0\n",
        "b=1200\n",
        "c=100\n",
        "d=200\n",
        "Num=12\n",
        "ww=[]\n",
        "label=[]\n",
        "SizeWidth=[]  \n",
        "\n",
        "for i in range(Num):\n",
        "  #x=random.randint(a, b)\n",
        "  #y=random.randint(a, b)\n",
        "  #Width=random.randint(c, d)\n",
        "  x=randint(a, b)\n",
        "  y=randint(a, b)\n",
        "  Width=randint(c, d)\n",
        "  img_1st=np.zeros((Width,Width)).astype(np.int64)\n",
        "\n",
        "  for i in range(Width):\n",
        "    for j in range(Width):\n",
        "\n",
        "      size_x=Width+x\n",
        "      size_y=Width+y\n",
        "    \n",
        "      if(size_x>=Size):\n",
        "        x=Size-Width\n",
        "\n",
        "      if(size_y>= Size):\n",
        "        y=Size-Width\n",
        "\n",
        "      img_1st[i,j]=np.copy(img[i+y,j+x])\n",
        "      \n",
        "  ww.append(img_1st)\n",
        "  SizeWidth.append(Width)\n",
        "  nome = \"W=\" + str(Width)+\" x=\"+str(x)+\" y=\"+str(y)\n",
        "  label.append(nome)\n"
      ],
      "execution_count": null,
      "outputs": []
    },
    {
      "cell_type": "code",
      "metadata": {
        "id": "9b9JBzwO7uCO",
        "colab_type": "code",
        "colab": {}
      },
      "source": [
        "#2nd top"
      ],
      "execution_count": null,
      "outputs": []
    },
    {
      "cell_type": "code",
      "metadata": {
        "id": "DinY6toKu3eN",
        "colab_type": "code",
        "colab": {}
      },
      "source": [
        "Num=12\n",
        "Size=28\n",
        "img28_all=[]\n",
        "for i in range(Num):\n",
        "  data=np.array(ww[i])\n",
        "  img = Image.fromarray(data.astype('uint8'), mode='L')\n",
        "  img=np.float32(img)\n",
        "  img28=cv2.resize(img,(Size,Size), interpolation = cv2.INTER_AREA)\n",
        "  img28_all.append(img28)\n",
        "\n",
        "img28_all=np.array(img28_all)\n",
        "print(img28_all.shape)\n"
      ],
      "execution_count": null,
      "outputs": []
    },
    {
      "cell_type": "code",
      "metadata": {
        "id": "_T0MoNg273RC",
        "colab_type": "code",
        "colab": {}
      },
      "source": [
        "#3th top"
      ],
      "execution_count": null,
      "outputs": []
    },
    {
      "cell_type": "code",
      "metadata": {
        "id": "QmQW1J4mn-hz",
        "colab_type": "code",
        "colab": {}
      },
      "source": [
        "\n",
        "plt.figure(figsize=(15,15))\n",
        "for i in range(Num):\n",
        "  plt.subplot(5,5,i+1)\n",
        "  plt.xticks([])\n",
        "  plt.yticks([])\n",
        "  plt.grid(False)\n",
        "  plt.imshow(ww[i], cmap = \"gray\")\n",
        "  plt.xlabel(i)\n",
        "\n",
        "  "
      ],
      "execution_count": null,
      "outputs": []
    },
    {
      "cell_type": "code",
      "metadata": {
        "id": "ZlX159Hp8Au3",
        "colab_type": "code",
        "colab": {}
      },
      "source": [
        "#4th top"
      ],
      "execution_count": null,
      "outputs": []
    },
    {
      "cell_type": "code",
      "metadata": {
        "id": "IDKXEjfApwEk",
        "colab_type": "code",
        "colab": {}
      },
      "source": [
        "Types_top=[]\n",
        "plt.figure(figsize=(15,15))\n",
        "for i in range(Num):\n",
        "  print('i=',i,'=====')\n",
        "  Valor=input('Tipo=')\n",
        "  Types_top.append(Valor)"
      ],
      "execution_count": null,
      "outputs": []
    },
    {
      "cell_type": "code",
      "metadata": {
        "id": "2SA6HDKH-PZA",
        "colab_type": "code",
        "colab": {}
      },
      "source": [
        "# 5th top"
      ],
      "execution_count": null,
      "outputs": []
    },
    {
      "cell_type": "code",
      "metadata": {
        "id": "XUVYvWHVlvJX",
        "colab_type": "code",
        "colab": {}
      },
      "source": [
        "Num=12\n",
        "img28_ravel_all=[]\n",
        "for i in range(Num):\n",
        "  img28_ravel=np.copy(img28_all[i].ravel())\n",
        "  img28_ravel_all.append(img28_ravel)\n",
        "  # img28_ravel_all.append(img28_all[i].ravel())"
      ],
      "execution_count": null,
      "outputs": []
    },
    {
      "cell_type": "code",
      "metadata": {
        "id": "gMlpK3-U-er7",
        "colab_type": "code",
        "colab": {}
      },
      "source": [
        "# 6th top"
      ],
      "execution_count": null,
      "outputs": []
    },
    {
      "cell_type": "code",
      "metadata": {
        "id": "XQs9qxqJniYi",
        "colab_type": "code",
        "colab": {}
      },
      "source": [
        "img28_top=pd.DataFrame(img28_ravel_all)\n",
        "img28_top.insert(0,\"Type\",Types_top)\n",
        "img28_top.insert(0, \"Width\", SizeWidth) "
      ],
      "execution_count": null,
      "outputs": []
    },
    {
      "cell_type": "code",
      "metadata": {
        "id": "52fehE93DmuF",
        "colab_type": "code",
        "colab": {}
      },
      "source": [
        "# Start middle"
      ],
      "execution_count": null,
      "outputs": []
    },
    {
      "cell_type": "code",
      "metadata": {
        "colab_type": "code",
        "id": "Zybjd4KJDoDB",
        "colab": {}
      },
      "source": [
        "#Start to use the big image\n",
        "Size=1200 # tamanho da foto\n",
        "Sub_Size=int(Size/5) # tamanho do fracionamento\n",
        "Row_Crop=1/2 # posicao do corte\n",
        "Crop=int(Size*Row_Crop)\n",
        "ww,img_name=Go2BlackWhite.BlackWhite(Transfere,Size) #Pegamos a primeira foto Grande\n",
        "img=ww[0]"
      ],
      "execution_count": null,
      "outputs": []
    },
    {
      "cell_type": "code",
      "metadata": {
        "id": "3dykNeRI87rx",
        "colab_type": "code",
        "colab": {}
      },
      "source": [
        "#First middle"
      ],
      "execution_count": null,
      "outputs": []
    },
    {
      "cell_type": "code",
      "metadata": {
        "colab_type": "code",
        "id": "A-4vUrAK7uhy",
        "colab": {}
      },
      "source": [
        "a=0\n",
        "b=1200\n",
        "c=100\n",
        "d=200\n",
        "Num=12\n",
        "ww=[]\n",
        "label=[]\n",
        "SizeWidth=[]  \n",
        "for i in range(Num):\n",
        "  #x=random.randint(a, b)\n",
        "  #y=random.randint(a, b)\n",
        "  #Width=random.randint(c, d)\n",
        "  x=randint(a, b)\n",
        "  y=randint(a, b)\n",
        "  Width=randint(c, d)\n",
        "  img_1st=np.zeros((Width,Width)).astype(np.int64)\n",
        "\n",
        "  for i in range(Width):\n",
        "    for j in range(Width):\n",
        "\n",
        "      size_x=Width+x\n",
        "      size_y=Width+y\n",
        "    \n",
        "      if(size_x>=Size):\n",
        "        x=Size-Width\n",
        "\n",
        "      if(size_y>= Size):\n",
        "        y=Size-Width\n",
        "\n",
        "      img_1st[i,j]=np.copy(img[i+y,j+x])\n",
        "  ww.append(img_1st)\n",
        "  SizeWidth.append(Width)\n",
        "  nome = \"W=\" + str(Width)+\" x=\"+str(x)+\" y=\"+str(y)\n",
        "  label.append(nome)\n"
      ],
      "execution_count": null,
      "outputs": []
    },
    {
      "cell_type": "code",
      "metadata": {
        "id": "u-tmzs0WCiWA",
        "colab_type": "code",
        "colab": {}
      },
      "source": [
        "print([i+y,j+x])\n",
        "print([x,y])\n",
        "print([Size,Width])"
      ],
      "execution_count": null,
      "outputs": []
    },
    {
      "cell_type": "code",
      "metadata": {
        "id": "Nc-x1rpIC9Qa",
        "colab_type": "code",
        "colab": {}
      },
      "source": [
        "print(np.array(img).shape)"
      ],
      "execution_count": null,
      "outputs": []
    },
    {
      "cell_type": "code",
      "metadata": {
        "id": "fwPz-jd-9GQx",
        "colab_type": "code",
        "colab": {}
      },
      "source": [
        "#2nd middle"
      ],
      "execution_count": null,
      "outputs": []
    },
    {
      "cell_type": "code",
      "metadata": {
        "colab_type": "code",
        "id": "hiVW76Mw74Ib",
        "colab": {}
      },
      "source": [
        "Num=12\n",
        "Size=28\n",
        "img28_all=[]\n",
        "for i in range(Num):\n",
        "  data=np.array(ww[i])\n",
        "  img = Image.fromarray(data.astype('uint8'), mode='L')\n",
        "  img=np.float32(img)\n",
        "  img28=cv2.resize(img,(Size,Size), interpolation = cv2.INTER_AREA)\n",
        "  img28_all.append(img28)\n",
        "\n",
        "img28_all=np.array(img28_all)\n",
        "print(img28_all.shape)"
      ],
      "execution_count": null,
      "outputs": []
    },
    {
      "cell_type": "code",
      "metadata": {
        "id": "6j_QOkA09PR7",
        "colab_type": "code",
        "colab": {}
      },
      "source": [
        "#3th middle"
      ],
      "execution_count": null,
      "outputs": []
    },
    {
      "cell_type": "code",
      "metadata": {
        "colab_type": "code",
        "id": "eGUXX7cM8CrU",
        "colab": {}
      },
      "source": [
        "plt.figure(figsize=(15,15))\n",
        "for i in range(Num):\n",
        "  plt.subplot(5,5,i+1)\n",
        "  plt.xticks([])\n",
        "  plt.yticks([])\n",
        "  plt.grid(False)\n",
        "  plt.imshow(ww[i], cmap = \"gray\")\n",
        "  plt.xlabel(i)"
      ],
      "execution_count": null,
      "outputs": []
    },
    {
      "cell_type": "code",
      "metadata": {
        "id": "q7p_fWGA90kW",
        "colab_type": "code",
        "colab": {}
      },
      "source": [
        "#4th middle"
      ],
      "execution_count": null,
      "outputs": []
    },
    {
      "cell_type": "code",
      "metadata": {
        "colab_type": "code",
        "id": "SRKQtioh-AYe",
        "colab": {}
      },
      "source": [
        "Types_middle=[]\n",
        "plt.figure(figsize=(15,15))\n",
        "for i in range(Num):\n",
        "  print('i=',i,'=====')\n",
        "  Valor=input('Tipo=')\n",
        "  Types_middle.append(Valor)"
      ],
      "execution_count": null,
      "outputs": []
    },
    {
      "cell_type": "code",
      "metadata": {
        "id": "BCCbBe0S-YmK",
        "colab_type": "code",
        "colab": {}
      },
      "source": [
        "# 5th middle"
      ],
      "execution_count": null,
      "outputs": []
    },
    {
      "cell_type": "code",
      "metadata": {
        "colab_type": "code",
        "id": "p_2MzL0V-ZZX",
        "colab": {}
      },
      "source": [
        "Num=12\n",
        "img28_ravel_all=[]\n",
        "for i in range(Num):\n",
        "  img28_ravel=np.copy(img28_all[i].ravel())\n",
        "  img28_ravel_all.append(img28_ravel)\n",
        "  # img28_ravel_all.append(img28_all[i].ravel())"
      ],
      "execution_count": null,
      "outputs": []
    },
    {
      "cell_type": "code",
      "metadata": {
        "id": "Tr95k1fN-nMb",
        "colab_type": "code",
        "colab": {}
      },
      "source": [
        "# 6th middle"
      ],
      "execution_count": null,
      "outputs": []
    },
    {
      "cell_type": "code",
      "metadata": {
        "colab_type": "code",
        "id": "9LuFE5jJ-nou",
        "colab": {}
      },
      "source": [
        "img28_middle=pd.DataFrame(img28_ravel_all)\n",
        "img28_middle.insert(0,\"Type\",Types_middle)\n",
        "img28_middle.insert(0, \"Width\", SizeWidth) "
      ],
      "execution_count": null,
      "outputs": []
    },
    {
      "cell_type": "code",
      "metadata": {
        "id": "VgCEZSenDu3i",
        "colab_type": "code",
        "colab": {}
      },
      "source": [
        "# start bottom"
      ],
      "execution_count": null,
      "outputs": []
    },
    {
      "cell_type": "code",
      "metadata": {
        "colab_type": "code",
        "id": "3uOP5jt5DvcA",
        "colab": {}
      },
      "source": [
        "#Start to use the big image\n",
        "Size=1200 # tamanho da foto\n",
        "Sub_Size=int(Size/5) # tamanho do fracionamento\n",
        "Row_Crop=1/2 # posicao do corte\n",
        "Crop=int(Size*Row_Crop)\n",
        "ww,img_name=Go2BlackWhite.BlackWhite(Transfere,Size) #Pegamos a primeira foto Grande\n",
        "img=ww[0]"
      ],
      "execution_count": null,
      "outputs": []
    },
    {
      "cell_type": "code",
      "metadata": {
        "id": "IZ9DFvDu_SAo",
        "colab_type": "code",
        "colab": {}
      },
      "source": [
        "# First bottom"
      ],
      "execution_count": null,
      "outputs": []
    },
    {
      "cell_type": "code",
      "metadata": {
        "colab_type": "code",
        "id": "yJ-Ys4YI_SoJ",
        "colab": {}
      },
      "source": [
        "a=0\n",
        "b=1200\n",
        "c=100\n",
        "d=200\n",
        "Num=12\n",
        "ww=[]\n",
        "label=[]\n",
        "SizeWidth=[]\n",
        "\n",
        "for i in range(Num):\n",
        "  #x=random.randint(a, b)\n",
        "  #y=random.randint(a, b)\n",
        "  #Width=random.randint(c, d)\n",
        "  x=randint(a, b)\n",
        "  y=randint(a, b)\n",
        "  Width=randint(c, d)\n",
        "  img_1st=np.zeros((Width,Width)).astype(np.int64)\n",
        "\n",
        "  for i in range(Width):\n",
        "    for j in range(Width):\n",
        "\n",
        "      size_x=Width+x\n",
        "      size_y=Width+y\n",
        "    \n",
        "      if(size_x>=Size):\n",
        "        x=Size-Width\n",
        "\n",
        "      if(size_y>= Size):\n",
        "        y=Size-Width\n",
        "\n",
        "      img_1st[i,j]=np.copy(img[i+y,j+x])\n",
        "  ww.append(img_1st)\n",
        "  SizeWidth.append(Width)\n",
        "  nome = \"W=\" + str(Width)+\" x=\"+str(x)+\" y=\"+str(y)\n",
        "  label.append(nome)\n"
      ],
      "execution_count": null,
      "outputs": []
    },
    {
      "cell_type": "code",
      "metadata": {
        "id": "SWiuY22j_dga",
        "colab_type": "code",
        "colab": {}
      },
      "source": [
        "# 2nd bottom"
      ],
      "execution_count": null,
      "outputs": []
    },
    {
      "cell_type": "code",
      "metadata": {
        "colab_type": "code",
        "id": "4iTsyHxL_d8J",
        "colab": {}
      },
      "source": [
        "Num=12\n",
        "Size=28\n",
        "img28_all=[]\n",
        "for i in range(Num):\n",
        "  data=np.array(ww[i])\n",
        "  img = Image.fromarray(data.astype('uint8'), mode='L')\n",
        "  img=np.float32(img)\n",
        "  img28=cv2.resize(img,(Size,Size), interpolation = cv2.INTER_AREA)\n",
        "  img28_all.append(img28)\n",
        "\n",
        "img28_all=np.array(img28_all)\n",
        "print(img28_all.shape)"
      ],
      "execution_count": null,
      "outputs": []
    },
    {
      "cell_type": "code",
      "metadata": {
        "id": "V8_1TZoK_lqB",
        "colab_type": "code",
        "colab": {}
      },
      "source": [
        "# 3th bottom"
      ],
      "execution_count": null,
      "outputs": []
    },
    {
      "cell_type": "code",
      "metadata": {
        "colab_type": "code",
        "id": "2ah_Dxxu_mHf",
        "colab": {}
      },
      "source": [
        "plt.figure(figsize=(15,15))\n",
        "for i in range(Num):\n",
        "  plt.subplot(5,5,i+1)\n",
        "  plt.xticks([])\n",
        "  plt.yticks([])\n",
        "  plt.grid(False)\n",
        "  plt.imshow(ww[i], cmap = \"gray\")\n",
        "  plt.xlabel(i)\n",
        "\n",
        "  "
      ],
      "execution_count": null,
      "outputs": []
    },
    {
      "cell_type": "code",
      "metadata": {
        "id": "SMnsTBeu_xWc",
        "colab_type": "code",
        "colab": {}
      },
      "source": [
        "# 4th bottom"
      ],
      "execution_count": null,
      "outputs": []
    },
    {
      "cell_type": "code",
      "metadata": {
        "colab_type": "code",
        "id": "Uwewvnwx_ynw",
        "colab": {}
      },
      "source": [
        "Types_bottom=[]\n",
        "plt.figure(figsize=(15,15))\n",
        "for i in range(Num):\n",
        "  print('i=',i,'=====')\n",
        "  Valor=input('Tipo=')\n",
        "  Types_bottom.append(Valor)"
      ],
      "execution_count": null,
      "outputs": []
    },
    {
      "cell_type": "code",
      "metadata": {
        "id": "JDbxom6oALk-",
        "colab_type": "code",
        "colab": {}
      },
      "source": [
        "# 5th bottom"
      ],
      "execution_count": null,
      "outputs": []
    },
    {
      "cell_type": "code",
      "metadata": {
        "colab_type": "code",
        "id": "EKOwWivBAMSY",
        "colab": {}
      },
      "source": [
        "Num=12\n",
        "img28_ravel_all=[]\n",
        "for i in range(Num):\n",
        "  img28_ravel=np.copy(img28_all[i].ravel())\n",
        "  img28_ravel_all.append(img28_ravel)\n",
        "  # img28_ravel_all.append(img28_all[i].ravel())"
      ],
      "execution_count": null,
      "outputs": []
    },
    {
      "cell_type": "code",
      "metadata": {
        "id": "B730LJI1APic",
        "colab_type": "code",
        "colab": {}
      },
      "source": [
        "# 6th bottom"
      ],
      "execution_count": null,
      "outputs": []
    },
    {
      "cell_type": "code",
      "metadata": {
        "colab_type": "code",
        "id": "9LC1q9QCAWtf",
        "colab": {}
      },
      "source": [
        "img28_bottom=pd.DataFrame(img28_ravel_all)\n",
        "img28_bottom.insert(0,\"Type\",Types_bottom)\n",
        "img28_bottom.insert(0, \"Width\", SizeWidth) \n",
        "print(img28_bottom)"
      ],
      "execution_count": null,
      "outputs": []
    },
    {
      "cell_type": "code",
      "metadata": {
        "id": "E29Qgrbix59x",
        "colab_type": "code",
        "colab": {}
      },
      "source": [
        "frames = [img28_top,img28_middle,img28_bottom]\n",
        "img28_all=pd.concat(frames)\n",
        "print(img28_all)"
      ],
      "execution_count": null,
      "outputs": []
    },
    {
      "cell_type": "code",
      "metadata": {
        "id": "mBaCLTq00SGm",
        "colab_type": "code",
        "colab": {}
      },
      "source": [
        "# found drive\n",
        "from google.colab import drive\n",
        "drive.mount('drive')"
      ],
      "execution_count": null,
      "outputs": []
    },
    {
      "cell_type": "code",
      "metadata": {
        "id": "okPYMdJxqOAO",
        "colab_type": "code",
        "colab": {}
      },
      "source": [
        "ww[11].shape"
      ],
      "execution_count": null,
      "outputs": []
    },
    {
      "cell_type": "code",
      "metadata": {
        "id": "lacZCkwW1CXl",
        "colab_type": "code",
        "colab": {}
      },
      "source": [
        "img28_all.to_csv('img28_all.csv',float_format=\"%.5f\")\n",
        "# save in drive\n",
        "!cp img28_all.csv drive/My\\ Drive/Maria_Gabriela_Textura_dados_jan_2020/"
      ],
      "execution_count": null,
      "outputs": []
    },
    {
      "cell_type": "code",
      "metadata": {
        "id": "UanHCYu8-3_j",
        "colab_type": "code",
        "colab": {}
      },
      "source": [
        "InputAnn=img28_all[['Type','Width']]\n",
        "Choice=img28_all[img28_all.Type.isin(['B','G'])]\n",
        "print(Choice)"
      ],
      "execution_count": null,
      "outputs": []
    },
    {
      "cell_type": "code",
      "metadata": {
        "id": "ijUcijeFBaS0",
        "colab_type": "code",
        "colab": {}
      },
      "source": [
        "X_fake=Choice[['Type','Width']]\n",
        "print(X_fake)"
      ],
      "execution_count": null,
      "outputs": []
    }
  ]
}